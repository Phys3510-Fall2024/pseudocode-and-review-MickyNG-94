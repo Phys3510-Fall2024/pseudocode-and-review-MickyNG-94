{
 "cells": [
  {
   "cell_type": "markdown",
   "id": "7db32a4a-c9a6-49fc-be7d-697bda4b6a81",
   "metadata": {},
   "source": [
    "## Pseudocode\n",
    "\n",
    "### What is Pseudocode?\n",
    "Pseudocode is a simplified and structured way to represent algorithms or solutions to problems without relying on the specific syntax of any programming language. It uses plain language and a logical structure to outline the steps in a program.\n",
    "\n",
    "### Why Use Pseudocode?\n",
    "1. **Organizing your thoughts/strategy** By thinking through the steps of a solution, you'll fine-tune your approach.\n",
    "2. **Language Independence:** Pseudocode focuses on the *logic* of the algorithm rather than implementation details, making it accessible regardless of the programming language.\n",
    "3. **Problem Decomposition:** It breaks a problem into smaller, manageable parts before coding, aiding in planning and understanding.\n",
    "4. **Collaborative Understanding:** Since pseudocode is language-agnostic, it can be easily understood by both programmers and non-programmers.\n",
    "\n",
    "---\n",
    "\n",
    "### Example: Motion in a 2D Anharmonic Oscillator\n",
    "\n",
    "**Problem:**  \n",
    "Simulate the motion of a particle in a 2D anharmonic oscillator potential:  \n",
    "\n",
    "$$\n",
    "V(x, y) = \\frac{1}{2}k(x^2 + y^2) + \\alpha (x^4 + y^4)\n",
    "$$\n",
    "\n",
    "where \\(k\\) is the harmonic constant and $\\alpha$ is the anharmonic constant.\n",
    "\n",
    "---\n",
    "\n",
    "### Example pseudocode for this problem:\n",
    "1. **Define constants**: Harmonic constant ($k$), anharmonic constant ($\\alpha$), mass ($m$), and time step ($\\Delta t$).\n",
    "2. **Initialize variables**:\n",
    "   - Initial position ($x_0, y_0$).\n",
    "   - Initial velocity ($v_{x0}, v_{y0}$).\n",
    "3. **Set up a first-order system of equations** to feed into a differential equation solver:\n",
    "   - Compute the force components using derivatives of the potential:\n",
    "     $$\n",
    "     F_x = -\\frac{\\partial V}{\\partial x}, \\quad F_y = -\\frac{\\partial V}{\\partial y}\n",
    "     $$\n",
    "   - Define a function which takes in positions and velocities and outputs their time derivatives.\n",
    "4. **Use a differential equation solver** to integrate the system over time:\n",
    "   - Pass the function and initial conditions to the solver.\n",
    "5. **Extract the results**:\n",
    "   - Retrieve positions ($x, y$) at each time step.\n",
    "6. **Plot the trajectory** of the particle in the 2D plane.\n",
    "7. **Explore physics and test code** by adjusting parameters. (e.g. for $\\alpha=0$ we have an analytical solution for comparison, which we could plot alongside the numerical results to evaluate accuracy. We could also superimpose the trajectories on a contour plot of the potential energy to test our understanding.)\n",
    "\n",
    "---\n",
    "\n",
    "### Key Takeaways:\n",
    "1. The pseudocode above is **independent of programming language**. You could implement it in Python, C++, Java, or any other language with minor modifications.\n",
    "2. By focusing on the *logic* of the algorithm, pseudocode ensures that the solution is robust and adaptable to any programming environment.\n",
    "3. Translating this pseudocode into Python or any other language would involve writing loops, handling arrays, and using basic arithmetic operations.\n",
    "\n",
    "---"
   ]
  },
  {
   "cell_type": "code",
   "execution_count": 2,
   "id": "f83c7db5-0ecf-4667-bc9b-0a07ea6579ea",
   "metadata": {},
   "outputs": [],
   "source": [
    "# pseudocode for python\n",
    "# import needed packages\n",
    "# define constants\n",
    "# derive system of equations (analytic or sympy, or both for comparison)\n",
    "# define first-order system of equations as a custom function\n",
    "# initialize positions and velocities\n",
    "# solve with differential eqaution solver\n",
    "# extract solution\n",
    "# plot trajectories\n",
    "# embed code in ipywidgets environment to explore physics and code"
   ]
  },
  {
   "cell_type": "code",
   "execution_count": 4,
   "id": "fd8c90c0-8ce5-4b74-9c42-ee23a6bf6a10",
   "metadata": {},
   "outputs": [],
   "source": [
    "# expanded pseudocode for python\n",
    "\n",
    "# import necessary packages\n",
    "# e.g., numpy, matplotlib, scipy.integrate, ipywidgets\n",
    "\n",
    "# define constants (k, alpha, m, delta_t or number of timesteps)\n",
    "\n",
    "# derive system of equations\n",
    "# e.g., analytical approach or use sympy to compute derivatives of the potential\n",
    "\n",
    "# define first-order system of equations as a function\n",
    "# Input: positions, velocities, time\n",
    "# Output: time derivatives\n",
    "\n",
    "# initialize positions, velocities, and time span\n",
    "\n",
    "# solve the system using a differential equation solver\n",
    "# e.g., scipy.integrate.solve_ivp\n",
    "\n",
    "# extract the solution\n",
    "# (positions and velocities over time)\n",
    "\n",
    "# plot results:\n",
    "# - trajectory (x, y) in 2D\n",
    "# - contour plot of the potential energy with trajectory overlay\n",
    "# - compare numerical trajectory with analytical solution (if applicable)\n",
    "\n",
    "# embed in an ipywidgets environment\n",
    "# add sliders for k, alpha, m, delta_t, etc., to explore parameter effects\n"
   ]
  },
  {
   "cell_type": "markdown",
   "id": "5f5d6b6e-1aad-4353-8cab-b75b8ba3e43b",
   "metadata": {},
   "source": [
    "# Write pseudocode for the following problem\n",
    "\n",
    "On our second midterm and in the following classes, we explored the dynamics of anharmonic oscillators by numerically extracting the angular frequency as a function of the initial displacement of the oscillator, $Q_0$. Now that we have some experience with this sort of problem, we can apply the approach to other problems.\n",
    "\n",
    "Write pseudocode and expanded pseudocode for extracting and plotting the angular frequency of an anharmonic oscillator with the potential energy \n",
    "\n",
    "$$U = \\frac{1}{2} K Q^2 - \\frac{1}{4} D Q^4 + \\frac{1}{6} \\Phi Q^6,$$\n",
    "\n",
    "where $K$, $D$, and $\\Phi$ are positive. \n",
    "\n",
    "How do you think changing the value of D will change the behavior? You may want to plot the potential and explore what happens as you change $D$ to help you think though a strategy."
   ]
  },
  {
   "cell_type": "code",
   "execution_count": 23,
   "id": "e737dddd-092f-4dab-a932-1fee9d39f73d",
   "metadata": {},
   "outputs": [
    {
     "data": {
      "image/png": "[encoded data removed]",
      "text/plain": [
       "<Figure size 640x480 with 1 Axes>"
      ]
     },
     "metadata": {},
     "output_type": "display_data"
    },
    {
     "ename": "AttributeError",
     "evalue": "module 'ipywidgets' has no attribute 'Floatslider'",
     "output_type": "error",
     "traceback": [
      "\u001b[1;31m---------------------------------------------------------------------------\u001b[0m",
      "\u001b[1;31mAttributeError\u001b[0m                            Traceback (most recent call last)",
      "Cell \u001b[1;32mIn[23], line 24\u001b[0m\n\u001b[0;32m     21\u001b[0m plt\u001b[38;5;241m.\u001b[39mtitle(\u001b[38;5;124m'\u001b[39m\u001b[38;5;124mPotential Energy\u001b[39m\u001b[38;5;124m'\u001b[39m)\n\u001b[0;32m     22\u001b[0m plt\u001b[38;5;241m.\u001b[39mshow()\n\u001b[1;32m---> 24\u001b[0m D_slider \u001b[38;5;241m=\u001b[39m \u001b[43mwidgets\u001b[49m\u001b[38;5;241;43m.\u001b[39;49m\u001b[43mFloatslider\u001b[49m(\n\u001b[0;32m     25\u001b[0m     value \u001b[38;5;241m=\u001b[39m \u001b[38;5;241m0\u001b[39m,\n\u001b[0;32m     26\u001b[0m     \u001b[38;5;28mmin\u001b[39m \u001b[38;5;241m=\u001b[39m \u001b[38;5;241m-\u001b[39m\u001b[38;5;241m10\u001b[39m,\n\u001b[0;32m     27\u001b[0m     \u001b[38;5;28mmax\u001b[39m \u001b[38;5;241m=\u001b[39m \u001b[38;5;241m10\u001b[39m,\n\u001b[0;32m     28\u001b[0m     step \u001b[38;5;241m=\u001b[39m \u001b[38;5;241m0.1\u001b[39m,\n\u001b[0;32m     29\u001b[0m     description \u001b[38;5;241m=\u001b[39m \u001b[38;5;124m'\u001b[39m\u001b[38;5;124mD:\u001b[39m\u001b[38;5;124m'\u001b[39m)\n\u001b[0;32m     31\u001b[0m result\u001b[38;5;241m.\u001b[39mlabel \u001b[38;5;241m=\u001b[39m widgets\u001b[38;5;241m.\u001b[39mLabel()\n",
      "\u001b[1;31mAttributeError\u001b[0m: module 'ipywidgets' has no attribute 'Floatslider'"
     ]
    }
   ],
   "source": [
    "#Plotting U to examine\n",
    "\n",
    "import sympy as sp\n",
    "import matplotlib.pyplot as plt\n",
    "import numpy as np\n",
    "from ipywidgets import interact, FloatSlider, IntSlider\n",
    "\n",
    "U, K, F, D, P = sp.symbols('U K F D P')\n",
    "\n",
    "Q = np.linspace(-2, 2, 20)\n",
    "\n",
    "\n",
    "def potential_energy(Q, K=1, D=1, P=1):\n",
    "    return 1/2 * K * Q ** 2 + 1/4 * D * Q **4 + 1/6 * P * Q ** 6\n",
    "    \n",
    "U_plot = potential_energy(Q)\n",
    "\n",
    "plt.plot(Q, U_plot)\n",
    "plt.xlabel('Q')\n",
    "plt.ylabel('U')\n",
    "plt.title('Potential Energy')\n",
    "plt.show()\n",
    "\n",
    "\n"
   ]
  },
  {
   "cell_type": "code",
   "execution_count": null,
   "id": "d71e39a1-7457-4477-9e1c-a334beb903e6",
   "metadata": {},
   "outputs": [],
   "source": []
  }
 ],
 "metadata": {
  "kernelspec": {
   "display_name": "Python 3 (ipykernel)",
   "language": "python",
   "name": "python3"
  },
  "language_info": {
   "codemirror_mode": {
    "name": "ipython",
    "version": 3
   },
   "file_extension": ".py",
   "mimetype": "text/x-python",
   "name": "python",
   "nbconvert_exporter": "python",
   "pygments_lexer": "ipython3",
   "version": "3.9.19"
  }
 },
 "nbformat": 4,
 "nbformat_minor": 5
}
